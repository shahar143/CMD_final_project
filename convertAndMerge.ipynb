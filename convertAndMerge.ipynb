{
 "cells": [
  {
   "cell_type": "code",
   "execution_count": 13,
   "id": "initial_id",
   "metadata": {
    "collapsed": true,
    "ExecuteTime": {
     "end_time": "2024-02-25T11:51:40.635642696Z",
     "start_time": "2024-02-25T11:51:40.507186308Z"
    }
   },
   "outputs": [],
   "source": [
    "import csv\n",
    "\n",
    "# Read the text file\n",
    "with open('badqueries.txt', 'r') as file:\n",
    "    lines = file.readlines()\n",
    "\n",
    "# Remove newline characters from each line\n",
    "lines = [line.strip() for line in lines]\n",
    "\n",
    "# Write to CSV file\n",
    "with open('output.csv', 'w', newline='') as csv_file:\n",
    "    csv_writer = csv.writer(csv_file)\n",
    "\n",
    "    # Write each line as a separate row\n",
    "    for line in lines:\n",
    "        csv_writer.writerow([line])"
   ]
  },
  {
   "cell_type": "code",
   "outputs": [],
   "source": [
    "import csv\n",
    "\n",
    "# read the csv file\n",
    "with open('output.csv', 'r') as file:\n",
    "    reader = csv.reader(file)\n",
    "    # read all rows from the file\n",
    "    rows = list(reader)\n",
    "    \n",
    "# pick randomly only 50,000 rows from the file\n",
    "import random\n",
    "random.seed(0)\n",
    "rows = random.sample(rows, 50000)\n",
    "\n",
    "# write the randomly selected rows to a new CSV file\n",
    "with open('output.csv', 'w', newline='') as file:\n",
    "    writer = csv.writer(file)\n",
    "    writer.writerows(rows)"
   ],
   "metadata": {
    "collapsed": false,
    "ExecuteTime": {
     "end_time": "2024-02-25T11:50:42.803629430Z",
     "start_time": "2024-02-25T11:50:39.484503076Z"
    }
   },
   "id": "9958c0409ee4b24",
   "execution_count": 10
  },
  {
   "cell_type": "code",
   "outputs": [],
   "source": [
    "import csv\n",
    "\n",
    "# Read the existing CSV file\n",
    "with open('output.csv', 'r') as file:\n",
    "    reader = csv.reader(file)\n",
    "    # Read all rows from the file\n",
    "    rows = list(reader)\n",
    "\n",
    "# Add a 'label' column with value '1' to each row except the header\n",
    "updated_rows = [row + ['1'] if row else row for row in rows]\n",
    "\n",
    "# Write the updated data back to a new CSV file\n",
    "with open('label_query.csv', 'w', newline='') as file:\n",
    "    writer = csv.writer(file)\n",
    "    writer.writerows(updated_rows)"
   ],
   "metadata": {
    "collapsed": false,
    "ExecuteTime": {
     "end_time": "2024-02-25T11:51:48.652473456Z",
     "start_time": "2024-02-25T11:51:48.476912095Z"
    }
   },
   "id": "3c7555deb9b2edd6",
   "execution_count": 14
  },
  {
   "cell_type": "code",
   "outputs": [],
   "source": [
    "import pandas as pd\n",
    "\n",
    "# Load the CSV data into a pandas DataFrame\n",
    "df = pd.read_csv('label_query.csv', header=None)\n",
    "\n",
    "# Rename columns to 'payload' and 'label'\n",
    "df.columns = ['payload', 'label']\n",
    "\n",
    "# Save the updated DataFrame to a new CSV file\n",
    "df.to_csv('badQueriesLabeled.csv', index=False)"
   ],
   "metadata": {
    "collapsed": false,
    "ExecuteTime": {
     "end_time": "2024-02-25T11:51:59.092661688Z",
     "start_time": "2024-02-25T11:51:58.927642545Z"
    }
   },
   "id": "f495f0ff35d910b5",
   "execution_count": 15
  },
  {
   "cell_type": "markdown",
   "source": [],
   "metadata": {
    "collapsed": false
   },
   "id": "3cc8f14c69a8dedb"
  },
  {
   "cell_type": "code",
   "outputs": [],
   "source": [
    "import pandas as pd\n",
    "\n",
    "# Read the CSV files\n",
    "df1 = pd.read_csv('goodQueriesLabeled.csv')\n",
    "df2 = pd.read_csv('badQueriesLabeled.csv')\n",
    "\n",
    "# Concatenate the DataFrames\n",
    "merged_df = pd.concat([df1, df2], ignore_index=True)\n",
    "\n",
    "# Path for the merged CSV file\n",
    "merged_csv_path = 'QueriesDataset.csv'\n",
    "\n",
    "# Save the merged DataFrame to a new CSV file\n",
    "merged_df.to_csv(merged_csv_path, index=False)"
   ],
   "metadata": {
    "collapsed": false,
    "ExecuteTime": {
     "end_time": "2024-02-25T11:52:38.302659998Z",
     "start_time": "2024-02-25T11:52:38.103446006Z"
    }
   },
   "id": "b571717e3a7e8eb0",
   "execution_count": 16
  },
  {
   "cell_type": "code",
   "outputs": [],
   "source": [],
   "metadata": {
    "collapsed": false
   },
   "id": "1599b8508022e0fb"
  },
  {
   "cell_type": "code",
   "outputs": [],
   "source": [],
   "metadata": {
    "collapsed": false
   },
   "id": "e3686be9d8470007"
  }
 ],
 "metadata": {
  "kernelspec": {
   "display_name": "Python 3",
   "language": "python",
   "name": "python3"
  },
  "language_info": {
   "codemirror_mode": {
    "name": "ipython",
    "version": 2
   },
   "file_extension": ".py",
   "mimetype": "text/x-python",
   "name": "python",
   "nbconvert_exporter": "python",
   "pygments_lexer": "ipython2",
   "version": "2.7.6"
  }
 },
 "nbformat": 4,
 "nbformat_minor": 5
}
