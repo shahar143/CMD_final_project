{
 "cells": [
  {
   "cell_type": "markdown",
   "id": "0ff36039",
   "metadata": {},
   "source": [
    "# Improving ModSecurity WAF Using a Structured-Language Classifier\n"
   ]
  },
  {
   "cell_type": "markdown",
   "id": "eb50d454",
   "metadata": {},
   "source": [
    "## For Computer Science B.Sc. Ariel University"
   ]
  },
  {
   "cell_type": "markdown",
   "id": "59f4593e",
   "metadata": {},
   "source": [
    "By Maor Saadon, Shahar Zaidel, Eden Mor."
   ]
  },
  {
   "cell_type": "markdown",
   "id": "56246420",
   "metadata": {},
   "source": [
    "# Introdaction"
   ]
  },
  {
   "cell_type": "markdown",
   "id": "4936f597",
   "metadata": {},
   "source": [
    "In the ever-evolving landscape of cybersecurity, Web Application Firewalls (WAF) stand as critical defenders against malicious web requests. Traditionally, WAFs rely on predefined rule sets to identify and block potential threats. However, the complexity and sophistication of modern cyber attacks often outpace the capabilities of these rule-based systems, necessitating more dynamic and adaptive approaches. Machine learning (ML), particularly deep learning, has emerged as a promising solution, offering the potential to significantly enhance the detection and mitigation capabilities of WAFs through its ability to learn from data and identify complex patterns.\n",
    "\n",
    "Our research explores the integration of machine learning techniques into the domain of web application security, focusing on the comparative analysis of various ML models in classifying web requests. We delve into models based on advanced text vectorization techniques, such as TF-IDF and Word2Vec, which transform web requests into numerical vectors that capture their semantic essence. These vectors are then utilized by machine learning algorithms, including the traditional k-Nearest Neighbors (kNN) algorithm, to distinguish between benign and malicious requests effectively.\n",
    "\n",
    "Central to our investigation is the exploration of deep learning models in contrast to traditional ML models. Deep learning's capacity for learning hierarchical representations offers a nuanced approach to understanding and classifying web traffic. This leads us to our guiding research question: Does a machine learning model enhanced with deep learning techniques outperform traditional models in the context of Web Application Firewalls?\n",
    "\n",
    "By examining the efficacy of deep learning models against their non-deep learning counterparts, our study aims to shed light on their relative performance and potential for improving the security mechanisms of WAFs. Through this comparative analysis, we aspire to contribute valuable insights into the advancement of cybersecurity methodologies, specifically in enhancing the resilience of web applications against the growing threat of cyber attacks."
   ]
  },
  {
   "cell_type": "markdown",
   "id": "0d9f46ca",
   "metadata": {},
   "source": [
    "## Install and import libraries"
   ]
  },
  {
   "cell_type": "code",
   "execution_count": 7,
   "id": "6d07f0f7",
   "metadata": {},
   "outputs": [
    {
     "name": "stdout",
     "output_type": "stream",
     "text": [
      "Requirement already satisfied: tensorflow in c:\\users\\maor1\\anaconda3\\lib\\site-packages (2.15.0)Note: you may need to restart the kernel to use updated packages.\n",
      "\n",
      "Requirement already satisfied: tensorflow-intel==2.15.0 in c:\\users\\maor1\\anaconda3\\lib\\site-packages (from tensorflow) (2.15.0)\n",
      "Requirement already satisfied: absl-py>=1.0.0 in c:\\users\\maor1\\anaconda3\\lib\\site-packages (from tensorflow-intel==2.15.0->tensorflow) (2.1.0)\n",
      "Requirement already satisfied: astunparse>=1.6.0 in c:\\users\\maor1\\anaconda3\\lib\\site-packages (from tensorflow-intel==2.15.0->tensorflow) (1.6.3)\n",
      "Requirement already satisfied: flatbuffers>=23.5.26 in c:\\users\\maor1\\anaconda3\\lib\\site-packages (from tensorflow-intel==2.15.0->tensorflow) (23.5.26)\n",
      "Requirement already satisfied: gast!=0.5.0,!=0.5.1,!=0.5.2,>=0.2.1 in c:\\users\\maor1\\anaconda3\\lib\\site-packages (from tensorflow-intel==2.15.0->tensorflow) (0.5.4)\n",
      "Requirement already satisfied: google-pasta>=0.1.1 in c:\\users\\maor1\\anaconda3\\lib\\site-packages (from tensorflow-intel==2.15.0->tensorflow) (0.2.0)\n",
      "Requirement already satisfied: h5py>=2.9.0 in c:\\users\\maor1\\anaconda3\\lib\\site-packages (from tensorflow-intel==2.15.0->tensorflow) (3.9.0)\n",
      "Requirement already satisfied: libclang>=13.0.0 in c:\\users\\maor1\\anaconda3\\lib\\site-packages (from tensorflow-intel==2.15.0->tensorflow) (16.0.6)\n",
      "Requirement already satisfied: ml-dtypes~=0.2.0 in c:\\users\\maor1\\anaconda3\\lib\\site-packages (from tensorflow-intel==2.15.0->tensorflow) (0.2.0)\n",
      "Requirement already satisfied: numpy<2.0.0,>=1.23.5 in c:\\users\\maor1\\anaconda3\\lib\\site-packages (from tensorflow-intel==2.15.0->tensorflow) (1.24.3)\n",
      "Requirement already satisfied: opt-einsum>=2.3.2 in c:\\users\\maor1\\anaconda3\\lib\\site-packages (from tensorflow-intel==2.15.0->tensorflow) (3.3.0)\n",
      "Requirement already satisfied: packaging in c:\\users\\maor1\\anaconda3\\lib\\site-packages (from tensorflow-intel==2.15.0->tensorflow) (23.1)\n",
      "Requirement already satisfied: protobuf!=4.21.0,!=4.21.1,!=4.21.2,!=4.21.3,!=4.21.4,!=4.21.5,<5.0.0dev,>=3.20.3 in c:\\users\\maor1\\anaconda3\\lib\\site-packages (from tensorflow-intel==2.15.0->tensorflow) (4.25.3)\n",
      "Requirement already satisfied: setuptools in c:\\users\\maor1\\anaconda3\\lib\\site-packages (from tensorflow-intel==2.15.0->tensorflow) (68.0.0)\n",
      "Requirement already satisfied: six>=1.12.0 in c:\\users\\maor1\\anaconda3\\lib\\site-packages (from tensorflow-intel==2.15.0->tensorflow) (1.16.0)\n",
      "Requirement already satisfied: termcolor>=1.1.0 in c:\\users\\maor1\\anaconda3\\lib\\site-packages (from tensorflow-intel==2.15.0->tensorflow) (2.4.0)\n",
      "Requirement already satisfied: typing-extensions>=3.6.6 in c:\\users\\maor1\\anaconda3\\lib\\site-packages (from tensorflow-intel==2.15.0->tensorflow) (4.7.1)\n",
      "Requirement already satisfied: wrapt<1.15,>=1.11.0 in c:\\users\\maor1\\anaconda3\\lib\\site-packages (from tensorflow-intel==2.15.0->tensorflow) (1.14.1)\n",
      "Requirement already satisfied: tensorflow-io-gcs-filesystem>=0.23.1 in c:\\users\\maor1\\anaconda3\\lib\\site-packages (from tensorflow-intel==2.15.0->tensorflow) (0.31.0)\n",
      "Requirement already satisfied: grpcio<2.0,>=1.24.3 in c:\\users\\maor1\\anaconda3\\lib\\site-packages (from tensorflow-intel==2.15.0->tensorflow) (1.62.0)\n",
      "Requirement already satisfied: tensorboard<2.16,>=2.15 in c:\\users\\maor1\\anaconda3\\lib\\site-packages (from tensorflow-intel==2.15.0->tensorflow) (2.15.2)\n",
      "Requirement already satisfied: tensorflow-estimator<2.16,>=2.15.0 in c:\\users\\maor1\\anaconda3\\lib\\site-packages (from tensorflow-intel==2.15.0->tensorflow) (2.15.0)\n",
      "Requirement already satisfied: keras<2.16,>=2.15.0 in c:\\users\\maor1\\anaconda3\\lib\\site-packages (from tensorflow-intel==2.15.0->tensorflow) (2.15.0)\n",
      "Requirement already satisfied: wheel<1.0,>=0.23.0 in c:\\users\\maor1\\anaconda3\\lib\\site-packages (from astunparse>=1.6.0->tensorflow-intel==2.15.0->tensorflow) (0.38.4)\n",
      "Requirement already satisfied: google-auth<3,>=1.6.3 in c:\\users\\maor1\\anaconda3\\lib\\site-packages (from tensorboard<2.16,>=2.15->tensorflow-intel==2.15.0->tensorflow) (2.28.1)\n",
      "Requirement already satisfied: google-auth-oauthlib<2,>=0.5 in c:\\users\\maor1\\anaconda3\\lib\\site-packages (from tensorboard<2.16,>=2.15->tensorflow-intel==2.15.0->tensorflow) (1.2.0)\n",
      "Requirement already satisfied: markdown>=2.6.8 in c:\\users\\maor1\\anaconda3\\lib\\site-packages (from tensorboard<2.16,>=2.15->tensorflow-intel==2.15.0->tensorflow) (3.4.1)\n",
      "Requirement already satisfied: requests<3,>=2.21.0 in c:\\users\\maor1\\anaconda3\\lib\\site-packages (from tensorboard<2.16,>=2.15->tensorflow-intel==2.15.0->tensorflow) (2.31.0)\n",
      "Requirement already satisfied: tensorboard-data-server<0.8.0,>=0.7.0 in c:\\users\\maor1\\anaconda3\\lib\\site-packages (from tensorboard<2.16,>=2.15->tensorflow-intel==2.15.0->tensorflow) (0.7.2)\n",
      "Requirement already satisfied: werkzeug>=1.0.1 in c:\\users\\maor1\\anaconda3\\lib\\site-packages (from tensorboard<2.16,>=2.15->tensorflow-intel==2.15.0->tensorflow) (2.2.3)\n",
      "Requirement already satisfied: cachetools<6.0,>=2.0.0 in c:\\users\\maor1\\anaconda3\\lib\\site-packages (from google-auth<3,>=1.6.3->tensorboard<2.16,>=2.15->tensorflow-intel==2.15.0->tensorflow) (5.3.2)\n",
      "Requirement already satisfied: pyasn1-modules>=0.2.1 in c:\\users\\maor1\\anaconda3\\lib\\site-packages (from google-auth<3,>=1.6.3->tensorboard<2.16,>=2.15->tensorflow-intel==2.15.0->tensorflow) (0.2.8)\n",
      "Requirement already satisfied: rsa<5,>=3.1.4 in c:\\users\\maor1\\anaconda3\\lib\\site-packages (from google-auth<3,>=1.6.3->tensorboard<2.16,>=2.15->tensorflow-intel==2.15.0->tensorflow) (4.9)\n",
      "Requirement already satisfied: requests-oauthlib>=0.7.0 in c:\\users\\maor1\\anaconda3\\lib\\site-packages (from google-auth-oauthlib<2,>=0.5->tensorboard<2.16,>=2.15->tensorflow-intel==2.15.0->tensorflow) (1.3.1)\n",
      "Requirement already satisfied: charset-normalizer<4,>=2 in c:\\users\\maor1\\anaconda3\\lib\\site-packages (from requests<3,>=2.21.0->tensorboard<2.16,>=2.15->tensorflow-intel==2.15.0->tensorflow) (2.0.4)\n",
      "Requirement already satisfied: idna<4,>=2.5 in c:\\users\\maor1\\anaconda3\\lib\\site-packages (from requests<3,>=2.21.0->tensorboard<2.16,>=2.15->tensorflow-intel==2.15.0->tensorflow) (3.4)\n",
      "Requirement already satisfied: urllib3<3,>=1.21.1 in c:\\users\\maor1\\anaconda3\\lib\\site-packages (from requests<3,>=2.21.0->tensorboard<2.16,>=2.15->tensorflow-intel==2.15.0->tensorflow) (1.26.16)\n",
      "Requirement already satisfied: certifi>=2017.4.17 in c:\\users\\maor1\\anaconda3\\lib\\site-packages (from requests<3,>=2.21.0->tensorboard<2.16,>=2.15->tensorflow-intel==2.15.0->tensorflow) (2023.11.17)\n",
      "Requirement already satisfied: MarkupSafe>=2.1.1 in c:\\users\\maor1\\anaconda3\\lib\\site-packages (from werkzeug>=1.0.1->tensorboard<2.16,>=2.15->tensorflow-intel==2.15.0->tensorflow) (2.1.1)\n",
      "Requirement already satisfied: pyasn1<0.5.0,>=0.4.6 in c:\\users\\maor1\\anaconda3\\lib\\site-packages (from pyasn1-modules>=0.2.1->google-auth<3,>=1.6.3->tensorboard<2.16,>=2.15->tensorflow-intel==2.15.0->tensorflow) (0.4.8)\n",
      "Requirement already satisfied: oauthlib>=3.0.0 in c:\\users\\maor1\\anaconda3\\lib\\site-packages (from requests-oauthlib>=0.7.0->google-auth-oauthlib<2,>=0.5->tensorboard<2.16,>=2.15->tensorflow-intel==2.15.0->tensorflow) (3.2.2)\n",
      "Requirement already satisfied: scikit-learn in c:\\users\\maor1\\anaconda3\\lib\\site-packages (1.3.0)\n",
      "Requirement already satisfied: numpy>=1.17.3 in c:\\users\\maor1\\anaconda3\\lib\\site-packages (from scikit-learn) (1.24.3)\n",
      "Requirement already satisfied: scipy>=1.5.0 in c:\\users\\maor1\\anaconda3\\lib\\site-packages (from scikit-learn) (1.11.1)\n",
      "Requirement already satisfied: joblib>=1.1.1 in c:\\users\\maor1\\anaconda3\\lib\\site-packages (from scikit-learn) (1.2.0)\n",
      "Requirement already satisfied: threadpoolctl>=2.0.0 in c:\\users\\maor1\\anaconda3\\lib\\site-packages (from scikit-learn) (2.2.0)\n",
      "Note: you may need to restart the kernel to use updated packages.\n"
     ]
    }
   ],
   "source": [
    "%pip install tensorflow\n",
    "%pip install scikit-learn"
   ]
  },
  {
   "cell_type": "markdown",
   "source": [
    "# Import libraries"
   ],
   "metadata": {
    "collapsed": false
   }
  },
  {
   "cell_type": "code",
   "execution_count": 6,
   "id": "da6b87b7",
   "metadata": {},
   "outputs": [],
   "source": [
    "import numpy as np\n",
    "import pandas as pd\n",
    "import tensorflow as tf\n",
    "from tensorflow.keras.preprocessing.text import Tokenizer\n",
    "from tensorflow.keras.preprocessing.sequence import pad_sequences\n",
    "from tensorflow.keras.models import Sequential\n",
    "from tensorflow.keras.layers import Embedding, LSTM, Dense, Dropout\n",
    "from sklearn.model_selection import train_test_split\n",
    "from sklearn.feature_extraction.text import TfidfVectorizer\n",
    "import sys\n",
    "import getopt\n",
    "import pandas as pd\n",
    "from sklearn.model_selection import train_test_split\n",
    "from sklearn import metrics\n",
    "from sklearn.model_selection import cross_val_score\n",
    "from sklearn.utils import shuffle\n",
    "import random\n",
    "from sklearn.neighbors import KNeighborsClassifier\n",
    "from sklearn.metrics import accuracy_score, confusion_matrix, classification_report\n",
    "import pickle as pkl\n",
    "from gensim.models import Word2Vec\n",
    "from nltk.tokenize import word_tokenize\n",
    "from sklearn.feature_extraction.text import CountVectorizer\n",
    "import pandas as pd\n",
    "from pandas import DataFrame\n",
    "from sklearn.model_selection import train_test_split\n",
    "from sklearn import metrics\n",
    "from sklearn.model_selection import cross_val_score\n",
    "from sklearn.utils import shuffle\n",
    "import random"
   ]
  },
  {
   "cell_type": "markdown",
   "id": "08339edc",
   "metadata": {},
   "source": [
    "## Feature extraction functions"
   ]
  },
  {
   "cell_type": "markdown",
   "id": "875ba8cf",
   "metadata": {},
   "source": [
    "We will use the following feature extraction functions to extract features from the HTTP request:\n",
    "1. calculate_alphanumeric_ratio\n",
    "2. calculate_input_length\n",
    "3. calculate_special_character_ratio\n"
   ]
  },
  {
   "cell_type": "code",
   "execution_count": 7,
   "id": "0f7a5135",
   "metadata": {},
   "outputs": [],
   "source": [
    "def calculate_alphanumeric_ratio(payload):\n",
    "    alphanumeric_characters = set('abcdefghijklmnopqrstuvwxyzABCDEFGHIJKLMNOPQRSTUVWXYZ0123456789')\n",
    "    alphanumeric_count = sum(1 for char in payload if char in alphanumeric_characters)\n",
    "    payload_length = len(payload)\n",
    "    input_length = max(payload_length, 1)  # Avoid division by zero if payload_length is 0\n",
    "    alphanumeric_ratio = (alphanumeric_count / input_length) * 10\n",
    "    return alphanumeric_ratio\n",
    "\n",
    "def calculate_input_length(payload):\n",
    "    input_length = len(payload)\n",
    "    return input_length\n",
    "\n",
    "def calculate_special_character_ratio(payload):\n",
    "    alphanumeric_characters = set('abcdefghijklmnopqrstuvwxyzABCDEFGHIJKLMNOPQRSTUVWXYZ0123456789')\n",
    "    special_count = sum(1 for char in payload if char not in alphanumeric_characters)\n",
    "    payload_length = len(payload)\n",
    "    input_length = max(payload_length, 1)  # Avoid division by zero if payload_length is 0\n",
    "    special_ratio = (special_count / input_length) * 100\n",
    "    return special_ratio\n"
   ]
  },
  {
   "cell_type": "markdown",
   "id": "e3767a62",
   "metadata": {},
   "source": [
    "# Load and Procces the dataset "
   ]
  },
  {
   "cell_type": "markdown",
   "id": "f11b802d",
   "metadata": {},
   "source": [
    "The dataset is a CSV file with two columns: payload and label. The payload column contains the http request payload and the label column contains the label of the http request. The label is 1 if the request is malicious and 0 if the request is benign. "
   ]
  },
  {
   "cell_type": "code",
   "execution_count": 8,
   "id": "61629e96",
   "metadata": {},
   "outputs": [
    {
     "name": "stdout",
     "output_type": "stream",
     "text": [
      "Balanced Dataset Shape: (35602, 5)\n",
      "Balanced Dataset Distribution: label\n",
      "0    28150\n",
      "1     7452\n",
      "Name: count, dtype: int64\n",
      "Balanced Dataset Head (First 10 Rows):\n",
      "                                             payload  payload_len       alpha  \\\n",
      "0  modo=registro&login=bauer&password=P41DiD3M31t...          264  100.000000   \n",
      "1  modo=insertar&precio=588&B1=Pasar+por+cajaparo...          152   66.355140   \n",
      "2  modo=entrar&login=flaherty&pwd=j%2Baqu%E9s&rem...           65   89.285714   \n",
      "3  id=%3F&nombre=Queso+Manchego&precio=85&cantida...           73   94.444444   \n",
      "4                                                NaN            0    0.000000   \n",
      "5                                                NaN            0    0.000000   \n",
      "6                                  B2=Vaciar+carrito           17  100.000000   \n",
      "7    id=%27%29%3Bwaitfor+delay+%270%3A0%3A15%27%3B--           47   64.285714   \n",
      "8  modo=registro&login=schreife&password=EstOrnin...          257   98.675497   \n",
      "9  id=3&nombre=Queso+Manchego&precio=100&cantidad...           72  100.000000   \n",
      "\n",
      "   non_alpha  label  \n",
      "0   0.000000      0  \n",
      "1  13.084112      1  \n",
      "2  10.714286      1  \n",
      "3   5.555556      1  \n",
      "4   0.000000      0  \n",
      "5   0.000000      0  \n",
      "6   0.000000      0  \n",
      "7  35.714286      1  \n",
      "8   1.324503      0  \n",
      "9   0.000000      0  \n"
     ]
    }
   ],
   "source": [
    "# Load the dataset\n",
    "\n",
    "# For CSIC 2010 dataset\n",
    "df = pd.read_csv('CSIC.csv')\n",
    "df = df.drop(['method', 'url', 'attack_feature'], axis=1)\n",
    "\n",
    "# For HTTPParams dataset\n",
    "# df = pd.read_csv('HTTPParams.csv')\n",
    "# df = df.drop(['attack_feature'], axis=1)\n",
    "\n",
    "# For QueriesDataset dataset\n",
    "# df = pd.read_csv('QueriesDataset.csv')\n",
    "\n",
    "# Shuffle the combined dataset to mix malicious and benign URLs\n",
    "balanced_df = df.sample(frac=1, random_state=42).reset_index(drop=True)\n",
    "\n",
    "print('Balanced Dataset Shape:', balanced_df.shape)\n",
    "print('Balanced Dataset Distribution:', balanced_df['label'].value_counts())\n",
    "print('Balanced Dataset Head (First 10 Rows):')\n",
    "print(balanced_df.head(10))"
   ]
  },
  {
   "cell_type": "markdown",
   "id": "45757f91",
   "metadata": {},
   "source": [
    "## Start testing with the options"
   ]
  },
  {
   "cell_type": "markdown",
   "id": "69516ab5",
   "metadata": {},
   "source": [
    "We'll split the truncated dataset into a training set and a test set (80% training, 20% test) and use the training set to train the model and the test set to evaluate the model."
   ]
  },
  {
   "cell_type": "markdown",
   "id": "e2e7554f",
   "metadata": {},
   "source": [
    "# CountVectorizer"
   ]
  },
  {
   "cell_type": "code",
   "execution_count": 9,
   "id": "1174eed0",
   "metadata": {},
   "outputs": [
    {
     "name": "stdout",
     "output_type": "stream",
     "text": [
      "Feature extraction...\n",
      "Balanced Dataset Shape: (35602, 5003)\n",
      "Balanced Dataset:\n",
      "       0040408141488994  0093197595343977  00947908d  01439  01722111d  \\\n",
      "0                     0                 0          0      0          0   \n",
      "1                     0                 0          0      0          0   \n",
      "2                     0                 0          0      0          0   \n",
      "3                     0                 0          0      0          0   \n",
      "4                     0                 0          0      0          0   \n",
      "...                 ...               ...        ...    ...        ...   \n",
      "35597                 0                 0          0      0          0   \n",
      "35598                 0                 0          0      0          0   \n",
      "35599                 0                 0          0      0          0   \n",
      "35600                 0                 0          0      0          0   \n",
      "35601                 0                 0          0      0          0   \n",
      "\n",
      "       0197876956887475  02290  02547887q  02629071x  03187  ...  zuleika  \\\n",
      "0                     0      0          0          0      0  ...        0   \n",
      "1                     0      0          0          0      0  ...        0   \n",
      "2                     0      0          0          0      0  ...        0   \n",
      "3                     0      0          0          0      0  ...        0   \n",
      "4                     0      0          0          0      0  ...        0   \n",
      "...                 ...    ...        ...        ...    ...  ...      ...   \n",
      "35597                 0      0          0          0      0  ...        0   \n",
      "35598                 0      0          0          0      0  ...        0   \n",
      "35599                 0      0          0          0      0  ...        0   \n",
      "35600                 0      0          0          0      0  ...        0   \n",
      "35601                 0      0          0          0      0  ...        0   \n",
      "\n",
      "       zumalacarregui  zumel  zurbaran  zurera  zurita  zw  payload_len  \\\n",
      "0                   0      0         0       0       0   0        264.0   \n",
      "1                   0      0         0       0       0   0        152.0   \n",
      "2                   0      0         0       0       0   0         65.0   \n",
      "3                   0      0         0       0       0   0         73.0   \n",
      "4                   0      0         0       0       0   0          0.0   \n",
      "...               ...    ...       ...     ...     ...  ..          ...   \n",
      "35597               0      0         0       0       0   0          0.0   \n",
      "35598               0      0         0       0       0   0          0.0   \n",
      "35599               0      0         0       0       0   0          0.0   \n",
      "35600               0      0         0       0       0   0         17.0   \n",
      "35601               0      0         0       0       0   0          0.0   \n",
      "\n",
      "          alpha  non_alpha  \n",
      "0      8.598485  14.015152  \n",
      "1      8.618421  13.815789  \n",
      "2      8.153846  18.461538  \n",
      "3      8.082192  19.178082  \n",
      "4      0.000000   0.000000  \n",
      "...         ...        ...  \n",
      "35597  0.000000   0.000000  \n",
      "35598  0.000000   0.000000  \n",
      "35599  0.000000   0.000000  \n",
      "35600  8.823529  11.764706  \n",
      "35601  0.000000   0.000000  \n",
      "\n",
      "[35602 rows x 5003 columns]\n"
     ]
    }
   ],
   "source": [
    "# Fill NaN values with an empty string\n",
    "def custom_tokenizer(text):\n",
    "    return text.split('/')\n",
    "\n",
    "# Fill NaN values with an empty string\n",
    "balanced_df['payload'] = balanced_df['payload'].fillna(\"\")\n",
    "\n",
    "# Initialize the CountVectorizer with custom tokenizer\n",
    "\n",
    "# If you want to use KNN or model, uncomment the following line\n",
    "vectorizer = CountVectorizer(max_features=5000) # , max_df=0.85, tokenizer=custom_tokenizer, stop_words=['https', 'localhost:8080'])\n",
    "\n",
    "# If you want to use TensorFlow or Ensemble model, uncomment the following line\n",
    "# vectorizer = CountVectorizer(max_features=5000)\n",
    "\n",
    "# Fit and transform the 'payload' column\n",
    "X = vectorizer.fit_transform(balanced_df['payload'])\n",
    "\n",
    "# Convert the result to an array if needed\n",
    "X_array = X.toarray()\n",
    "\n",
    "# Optionally, convert to DataFrame for better readability\n",
    "feature_names = vectorizer.get_feature_names_out()\n",
    "X_df = pd.DataFrame(X_array, columns=feature_names)\n",
    "\n",
    "# Apply feature extraction\n",
    "print('Feature extraction...')\n",
    "features = balanced_df['payload'].apply(lambda x: pd.Series({\n",
    "    'payload_len': calculate_input_length(str(x)),\n",
    "    'alpha': calculate_alphanumeric_ratio(str(x)),\n",
    "    'non_alpha': calculate_special_character_ratio(str(x)),\n",
    "    }))\n",
    "\n",
    "\n",
    "# Concatenate original DF with features\n",
    "X_df = pd.concat([X_df, features], axis=1)\n",
    "print('Balanced Dataset Shape:', X_df.shape)\n",
    "print('Balanced Dataset:')\n",
    "print(X_df)\n",
    "\n",
    "# Define y\n",
    "y = balanced_df['label'].values\n",
    "\n",
    "# Split the data into training and testing sets\n",
    "X_train, X_test, y_train, y_test = train_test_split(X_df, y, test_size=0.2, random_state=42)\n"
   ]
  },
  {
   "cell_type": "markdown",
   "id": "840aabe4",
   "metadata": {},
   "source": [
    "## K-Nearest Neighbors model"
   ]
  },
  {
   "cell_type": "code",
   "execution_count": 22,
   "id": "2b02d59a",
   "metadata": {},
   "outputs": [
    {
     "name": "stdout",
     "output_type": "stream",
     "text": [
      "K-Nearest Neighbors training is complete,\n",
      " predictions: \n",
      "[+] \t Classification accuracy :  98.44 %\n",
      "\n",
      "[+] \t Percentage of Anomaly requests in test set :  38.38 %\n",
      "\n",
      "[+] \t Percentage of Normal requests in test set :  61.62 %\n",
      "\n",
      "[+] \t TP :  3793 from  6214\n",
      "    \t TN :  2324 from  6214\n",
      "    \t FP :  36 from  6214\n",
      "    \t FN :  61 from  6214\n",
      "\n",
      "[+] \t Metrics : \n",
      "\t[-]  Accuracy Score (train_test_split):  98.44 %\n",
      "\t[-]  Accuracy Score (k-fold):  97.93 %\n",
      "\t[-]  Classification Error :  1.56 %\n",
      "\t[-]  Recall :  97.44 %\n",
      "\t[-]  Specificity :  98.47 %\n",
      "\t[-]  False Positive Rate :  1.53 %\n",
      "\t[-]  Precision :  99.06 %\n"
     ]
    }
   ],
   "source": [
    "# Create an instance of kNN classifier\n",
    "# the number of neighbors (k= 350) \n",
    "knn_model = KNeighborsClassifier(n_neighbors=350) \n",
    "\n",
    "# Train the kNN model\n",
    "knn_model.fit(X_train, y_train)\n",
    "print(\"K-Nearest Neighbors training is complete,\\n predictions: \")\n",
    "\n",
    "# Predict on the test set\n",
    "predictions = knn_model.predict(X_test)\n",
    "\n",
    "print('[+] \\t Classification accuracy : ', \"{:.2f}\".format(metrics.accuracy_score(y_test, predictions) * 100), '%\\n')\n",
    "print('[+] \\t Percentage of Anomaly requests in test set : ', \"{:.2f}\".format(y_test.mean() * 100), '%\\n')\n",
    "print('[+] \\t Percentage of Normal requests in test set : ', \"{:.2f}\".format((1 - y_test.mean()) * 100), '%\\n')\n",
    "\n",
    "confusion = metrics.confusion_matrix(y_test, predictions)\n",
    "TP = confusion[0, 0]\n",
    "TN = confusion[1, 1]\n",
    "FP = confusion[0, 1]\n",
    "FN = confusion[1, 0]\n",
    "\n",
    "print('[+] \\t TP : ', TP, 'from ', (TP + TN + FP + FN))\n",
    "print('    \\t TN : ', TN, 'from ', (TP + TN + FP + FN))\n",
    "print('    \\t FP : ', FP, 'from ', (TP + TN + FP + FN))\n",
    "print('    \\t FN : ', FN, 'from ', (TP + TN + FP + FN))\n",
    "\n",
    "print('\\n[+] \\t Metrics : ')\n",
    "print('\\t[-]  Accuracy Score (train_test_split): ', \"{:.2f}\".format(metrics.accuracy_score(y_test, predictions) * 100), '%')\n",
    "print('\\t[-]  Accuracy Score (k-fold): ',\n",
    "      \"{:.2f}\".format(cross_val_score(knn_model, X_train, y_train, cv=100, scoring='accuracy').mean() * 100), '%')\n",
    "\n",
    "print('\\t[-]  Classification Error : ', \"{:.2f}\".format((1 - metrics.accuracy_score(y_test, predictions)) * 100), '%')\n",
    "print('\\t[-]  Recall : ', \"{:.2f}\".format(metrics.recall_score(y_test, predictions) * 100), '%')\n",
    "specificity = TN / (TN + FP)\n",
    "print('\\t[-]  Specificity : ', \"{:.2f}\".format(specificity * 100), '%')\n",
    "false_positive_rate = FP / float(TN + FP)\n",
    "print('\\t[-]  False Positive Rate : ', \"{:.2f}\".format(false_positive_rate * 100), '%')\n",
    "precision = TP / float(TP + FP)\n",
    "print('\\t[-]  Precision : ', \"{:.2f}\".format(precision * 100), '%')\n"
   ]
  },
  {
   "cell_type": "markdown",
   "id": "b0d2f42c",
   "metadata": {},
   "source": [
    "## TensorFlow neural network, with feature extraction"
   ]
  },
  {
   "cell_type": "markdown",
   "id": "19a4392f",
   "metadata": {},
   "source": [
    "A deep learning model using a Dense Neural Network (DNN), also known as a Fully Connected Network. This type of neural network architecture is characterized by its layers of neurons where each neuron in one layer is connected to all neurons in the next layer."
   ]
  },
  {
   "cell_type": "code",
   "execution_count": 23,
   "id": "9e58bf6a",
   "metadata": {
    "scrolled": true
   },
   "outputs": [
    {
     "name": "stdout",
     "output_type": "stream",
     "text": [
      "Epoch 1/10\n",
      "622/622 [==============================] - 3s 3ms/step - loss: 0.1202 - accuracy: 0.9588 - recall: 0.8914 - precision: 0.9996 - val_loss: 0.0158 - val_accuracy: 0.9958 - val_recall: 0.9897 - val_precision: 0.9989\n",
      "Epoch 2/10\n",
      "622/622 [==============================] - 1s 2ms/step - loss: 0.0088 - accuracy: 0.9980 - recall: 0.9955 - precision: 0.9992 - val_loss: 0.0095 - val_accuracy: 0.9968 - val_recall: 0.9924 - val_precision: 0.9989\n",
      "Epoch 3/10\n",
      "622/622 [==============================] - 1s 2ms/step - loss: 0.0094 - accuracy: 0.9980 - recall: 0.9968 - precision: 0.9980 - val_loss: 0.0098 - val_accuracy: 0.9968 - val_recall: 0.9946 - val_precision: 0.9968\n",
      "Epoch 4/10\n",
      "622/622 [==============================] - 1s 2ms/step - loss: 0.0048 - accuracy: 0.9990 - recall: 0.9980 - precision: 0.9993 - val_loss: 0.0073 - val_accuracy: 0.9972 - val_recall: 0.9935 - val_precision: 0.9989\n",
      "Epoch 5/10\n",
      "622/622 [==============================] - 1s 2ms/step - loss: 0.0040 - accuracy: 0.9991 - recall: 0.9983 - precision: 0.9993 - val_loss: 0.0058 - val_accuracy: 0.9982 - val_recall: 0.9951 - val_precision: 1.0000\n",
      "Epoch 6/10\n",
      "622/622 [==============================] - 1s 2ms/step - loss: 0.0034 - accuracy: 0.9993 - recall: 0.9985 - precision: 0.9996 - val_loss: 0.0057 - val_accuracy: 0.9980 - val_recall: 0.9946 - val_precision: 1.0000\n",
      "Epoch 7/10\n",
      "622/622 [==============================] - 1s 2ms/step - loss: 0.0029 - accuracy: 0.9994 - recall: 0.9987 - precision: 0.9999 - val_loss: 0.0042 - val_accuracy: 0.9990 - val_recall: 0.9973 - val_precision: 1.0000\n",
      "Epoch 8/10\n",
      "622/622 [==============================] - 1s 2ms/step - loss: 0.0049 - accuracy: 0.9987 - recall: 0.9976 - precision: 0.9991 - val_loss: 0.0054 - val_accuracy: 0.9982 - val_recall: 0.9951 - val_precision: 1.0000\n",
      "Epoch 9/10\n",
      "622/622 [==============================] - 1s 2ms/step - loss: 0.0027 - accuracy: 0.9995 - recall: 0.9989 - precision: 0.9999 - val_loss: 0.0059 - val_accuracy: 0.9982 - val_recall: 0.9951 - val_precision: 1.0000\n",
      "Epoch 10/10\n",
      "622/622 [==============================] - 1s 2ms/step - loss: 0.0024 - accuracy: 0.9995 - recall: 0.9989 - precision: 0.9997 - val_loss: 0.0043 - val_accuracy: 0.9986 - val_recall: 0.9962 - val_precision: 1.0000\n",
      "Test Accuracy: 0.9998\n",
      "Recall: 0.9996\n",
      "Precision: 1.0000\n",
      "195/195 [==============================] - 0s 936us/step\n",
      "Confusion Matrix:\n",
      "[[3829    0]\n",
      " [   1 2384]]\n"
     ]
    }
   ],
   "source": [
    "n_features = X_train.shape[1]\n",
    "# define model\n",
    "model = Sequential()\n",
    "model.add(Dense(10, activation='relu', kernel_initializer='he_normal', input_shape=(n_features,)))\n",
    "model.add(Dense(8, activation='relu', kernel_initializer='he_normal'))\n",
    "model.add(Dense(1, activation='sigmoid'))\n",
    "# compile the model\n",
    "model.compile(optimizer='adam', loss='binary_crossentropy', metrics=['accuracy', 'Recall', 'Precision'])\n",
    "# fit the model\n",
    "\n",
    "# use asarray to convert the dataframe to array\n",
    "X_train_1 = np.asarray(X_train)\n",
    "y_train_1 = np.asarray(y_train)\n",
    "\n",
    "model.fit(X_train_1, y_train_1, epochs=10, batch_size=32, validation_split=0.2, verbose=1)\n",
    "\n",
    "X_test_1 = np.asarray(X_test)\n",
    "y_test_1 = np.asarray(y_test)\n",
    "\n",
    "# evaluate the model\n",
    "loss, accuracy, recall, precision = model.evaluate(X_test_1, y_test_1, verbose=0)\n",
    "print('Test Accuracy: %.4f' % accuracy)\n",
    "print('Recall: %.4f' % recall)\n",
    "print('Precision: %.4f' % precision)\n",
    "\n",
    "y_pred_classes = (model.predict(X_test_1) > 0.5).astype(\"int32\")\n",
    "\n",
    "# Confusion matrix\n",
    "cm = confusion_matrix(y_test_1, y_pred_classes)\n",
    "\n",
    "# Print confusion matrix\n",
    "print(\"Confusion Matrix:\")\n",
    "print(cm)"
   ]
  },
  {
   "cell_type": "code",
   "execution_count": 10,
   "id": "e694de5e",
   "metadata": {},
   "outputs": [
    {
     "name": "stderr",
     "output_type": "stream",
     "text": [
      "C:\\Users\\shaha\\PycharmProjects\\CMD_final_project\\venv\\Lib\\site-packages\\sklearn\\linear_model\\_logistic.py:469: ConvergenceWarning: lbfgs failed to converge (status=1):\n",
      "STOP: TOTAL NO. of ITERATIONS REACHED LIMIT.\n",
      "\n",
      "Increase the number of iterations (max_iter) or scale the data as shown in:\n",
      "    https://scikit-learn.org/stable/modules/preprocessing.html\n",
      "Please also refer to the documentation for alternative solver options:\n",
      "    https://scikit-learn.org/stable/modules/linear_model.html#logistic-regression\n",
      "  n_iter_i = _check_optimize_result(\n"
     ]
    },
    {
     "name": "stdout",
     "output_type": "stream",
     "text": [
      "Ensemble Model Precision: 0.9985007496251874\n",
      "Ensemble Model Recall: 0.8927613941018767\n",
      "Ensemble Model Accuracy: 0.977250386181716\n",
      "Ensemble Model Accuracy: 0.977250386181716\n",
      "Ensemble Model Confusion Matrix: [[5627    2]\n",
      " [ 160 1332]]\n",
      "Ensemble Classification Report:\n",
      "               precision    recall  f1-score   support\n",
      "\n",
      "           0       0.97      1.00      0.99      5629\n",
      "           1       1.00      0.89      0.94      1492\n",
      "\n",
      "    accuracy                           0.98      7121\n",
      "   macro avg       0.99      0.95      0.96      7121\n",
      "weighted avg       0.98      0.98      0.98      7121\n",
      "\n"
     ]
    }
   ],
   "source": [
    "from sklearn.metrics import precision_score\n",
    "from sklearn.linear_model import LogisticRegression\n",
    "from sklearn.naive_bayes import GaussianNB\n",
    "from sklearn.ensemble import RandomForestClassifier, ExtraTreesClassifier, VotingClassifier\n",
    "\n",
    "# Initialize individual models\n",
    "log_clf = LogisticRegression(random_state=42, max_iter=1000)\n",
    "dt_clf = RandomForestClassifier(n_estimators=100, max_depth=10, random_state=42)\n",
    "svm_clf = GaussianNB() # Enable probability for soft voting\n",
    "#svm_clf = ExtraTreesClassifier(n_estimators=100, max_depth=10, random_state=42)\n",
    "\n",
    "# Consider including your previously defined kNN model\n",
    "# knn_model = KNeighborsClassifier(n_neighbors=350)\n",
    "\n",
    "# load my model from .pkl file\n",
    "# with open('knn_model_counter.pkl', 'rb') as f:\n",
    "#      knn_model = pkl.load(f)\n",
    "\n",
    "\n",
    "# Create ensemble model using soft voting\n",
    "ensemble_clf = VotingClassifier(estimators=[\n",
    "    ('lr', log_clf),\n",
    "    ('dt', dt_clf),\n",
    "    ('svc', dt_clf),\n",
    "    # ('knn', knn_model)  # Add your kNN model\n",
    "    ], voting='soft')\n",
    "\n",
    "ensemble_clf.fit(X_train, y_train)\n",
    "\n",
    "# Predict on the test set\n",
    "ensemble_predictions = ensemble_clf.predict(X_test)\n",
    "\n",
    "# Evaluate the ensemble model\n",
    "ensemble_accuracy = accuracy_score(y_test, ensemble_predictions)\n",
    "ensemble_CMatrix = confusion_matrix(y_test, ensemble_predictions)\n",
    "\n",
    "ensemble_accuracy = accuracy_score(y_test, ensemble_predictions)\n",
    "ensemble_precision = precision_score(y_test, ensemble_predictions)\n",
    "recall_score = metrics.recall_score(y_test, ensemble_predictions)\n",
    "ensemble_CMatrix = confusion_matrix(y_test, ensemble_predictions)\n",
    "\n",
    "# Print evaluation metrics\n",
    "print(\"Ensemble Model Precision:\", ensemble_precision)\n",
    "print(\"Ensemble Model Recall:\", recall_score)\n",
    "print(\"Ensemble Model Accuracy:\", ensemble_accuracy)\n",
    "\n",
    "# Print evaluation metrics\n",
    "print(\"Ensemble Model Accuracy:\", ensemble_accuracy)\n",
    "print(\"Ensemble Model Confusion Matrix:\", ensemble_CMatrix)\n",
    "print(\"Ensemble Classification Report:\\n\", classification_report(y_test, ensemble_predictions))\n"
   ]
  },
  {
   "cell_type": "code",
   "execution_count": 11,
   "outputs": [
    {
     "data": {
      "text/plain": "<Figure size 1000x700 with 2 Axes>",
      "image/png": "[encoded data removed]"
     },
     "metadata": {},
     "output_type": "display_data"
    },
    {
     "data": {
      "text/plain": "<Figure size 640x480 with 1 Axes>",
      "image/png": "[encoded data removed]"
     },
     "metadata": {},
     "output_type": "display_data"
    }
   ],
   "source": [
    "import seaborn as sns\n",
    "import matplotlib.pyplot as plt\n",
    "from sklearn.metrics import confusion_matrix, classification_report, accuracy_score\n",
    "from sklearn.metrics import precision_score, recall_score, f1_score\n",
    "\n",
    "# Assuming you have already trained your ensemble_clf and made predictions\n",
    "\n",
    "# Confusion Matrix\n",
    "cm = confusion_matrix(y_test, ensemble_predictions)\n",
    "plt.figure(figsize=(10,7))\n",
    "sns.heatmap(cm, annot=True, fmt='d')\n",
    "plt.xlabel('Predicted')\n",
    "plt.ylabel('Truth')\n",
    "plt.title('Confusion Matrix')\n",
    "plt.show()\n",
    "\n",
    "# Performance Metrics\n",
    "accuracy = accuracy_score(y_test, ensemble_predictions)\n",
    "precision = precision_score(y_test, ensemble_predictions)\n",
    "recall = recall_score(y_test, ensemble_predictions)\n",
    "f1 = f1_score(y_test, ensemble_predictions)\n",
    "\n",
    "metrics = ['Accuracy', 'Precision', 'Recall', 'F1 Score']\n",
    "values = [accuracy, precision, recall, f1]\n",
    "\n",
    "plt.bar(metrics, values, color=['blue', 'green', 'red', 'purple'])\n",
    "plt.title('Performance Metrics of Ensemble Classifier')\n",
    "plt.ylim(0, 1)  # Assuming your metrics are between 0 and 1\n",
    "plt.show()"
   ],
   "metadata": {
    "collapsed": false
   }
  },
  {
   "cell_type": "code",
   "execution_count": null,
   "outputs": [],
   "source": [],
   "metadata": {
    "collapsed": false
   }
  }
 ],
 "metadata": {
  "kernelspec": {
   "display_name": "Python 3 (ipykernel)",
   "language": "python",
   "name": "python3"
  },
  "language_info": {
   "codemirror_mode": {
    "name": "ipython",
    "version": 3
   },
   "file_extension": ".py",
   "mimetype": "text/x-python",
   "name": "python",
   "nbconvert_exporter": "python",
   "pygments_lexer": "ipython3",
   "version": "3.11.5"
  }
 },
 "nbformat": 4,
 "nbformat_minor": 5
}
